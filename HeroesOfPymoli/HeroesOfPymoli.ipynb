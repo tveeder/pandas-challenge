{
 "cells": [
  {
   "cell_type": "code",
   "execution_count": 1,
   "metadata": {},
   "outputs": [],
   "source": [
    "# Import your dependency\n",
    "\n",
    "import pandas as pd\n",
    "\n",
    "# Upload your dataset(excelsheet) and assign it to a variable\n",
    "\n",
    "uploaded_data = \"../purchase_data.csv\"\n",
    "\n",
    "# Read Purchasing File and store into Pandas data frame\n",
    "purchase_data = pd.read_csv(uploaded_data)"
   ]
  },
  {
   "cell_type": "code",
   "execution_count": 2,
   "metadata": {},
   "outputs": [
    {
     "name": "stdout",
     "output_type": "stream",
     "text": [
      "576\n"
     ]
    },
    {
     "data": {
      "text/html": [
       "<div>\n",
       "<style scoped>\n",
       "    .dataframe tbody tr th:only-of-type {\n",
       "        vertical-align: middle;\n",
       "    }\n",
       "\n",
       "    .dataframe tbody tr th {\n",
       "        vertical-align: top;\n",
       "    }\n",
       "\n",
       "    .dataframe thead th {\n",
       "        text-align: right;\n",
       "    }\n",
       "</style>\n",
       "<table border=\"1\" class=\"dataframe\">\n",
       "  <thead>\n",
       "    <tr style=\"text-align: right;\">\n",
       "      <th></th>\n",
       "      <th>Total Players</th>\n",
       "    </tr>\n",
       "  </thead>\n",
       "  <tbody>\n",
       "    <tr>\n",
       "      <th>0</th>\n",
       "      <td>576</td>\n",
       "    </tr>\n",
       "  </tbody>\n",
       "</table>\n",
       "</div>"
      ],
      "text/plain": [
       "   Total Players\n",
       "0            576"
      ]
     },
     "execution_count": 2,
     "metadata": {},
     "output_type": "execute_result"
    }
   ],
   "source": [
    "# value_counts return unique values\n",
    "\n",
    "total_players = len(purchase_data[\"SN\"].value_counts())\n",
    "\n",
    "player_count = pd.DataFrame({\"Total Players\":[total_players]})\n",
    "\n",
    "\n",
    "#print(player_count)\n",
    "\n",
    "#better format\n",
    "\n",
    "print(total_players)\n",
    "player_count\n"
   ]
  },
  {
   "cell_type": "code",
   "execution_count": 3,
   "metadata": {},
   "outputs": [
    {
     "data": {
      "text/html": [
       "<style  type=\"text/css\" >\n",
       "</style><table id=\"T_636f4530_8668_11ea_8802_f018982d16bd\" ><thead>    <tr>        <th class=\"blank level0\" ></th>        <th class=\"col_heading level0 col0\" >Number of Unique Items</th>        <th class=\"col_heading level0 col1\" >Average Price</th>        <th class=\"col_heading level0 col2\" >Number of Purchases</th>        <th class=\"col_heading level0 col3\" >Total Revenue</th>    </tr></thead><tbody>\n",
       "                <tr>\n",
       "                        <th id=\"T_636f4530_8668_11ea_8802_f018982d16bdlevel0_row0\" class=\"row_heading level0 row0\" >0</th>\n",
       "                        <td id=\"T_636f4530_8668_11ea_8802_f018982d16bdrow0_col0\" class=\"data row0 col0\" >183</td>\n",
       "                        <td id=\"T_636f4530_8668_11ea_8802_f018982d16bdrow0_col1\" class=\"data row0 col1\" >$3.05</td>\n",
       "                        <td id=\"T_636f4530_8668_11ea_8802_f018982d16bdrow0_col2\" class=\"data row0 col2\" >780</td>\n",
       "                        <td id=\"T_636f4530_8668_11ea_8802_f018982d16bdrow0_col3\" class=\"data row0 col3\" >$2,379.77</td>\n",
       "            </tr>\n",
       "    </tbody></table>"
      ],
      "text/plain": [
       "<pandas.io.formats.style.Styler at 0x116b8a340>"
      ]
     },
     "execution_count": 3,
     "metadata": {},
     "output_type": "execute_result"
    }
   ],
   "source": [
    "# Calculations for unique items, average price, purchase count, and revenue\n",
    "number_of_unique_items = len((purchase_data[\"Item ID\"]).unique())\n",
    "average_price = (purchase_data[\"Price\"]).mean()\n",
    "number_of_purchases = (purchase_data[\"Purchase ID\"]).count()\n",
    "total_revenue = (purchase_data[\"Price\"]).sum()\n",
    "\n",
    "# Create data frame with obtained values\n",
    "summary_df = pd.DataFrame({\"Number of Unique Items\":[number_of_unique_items],\n",
    "                           \"Average Price\":[average_price], \n",
    "                           \"Number of Purchases\": [number_of_purchases], \n",
    "                           \"Total Revenue\": [total_revenue]})\n",
    "\n",
    "# Format with currency style\n",
    "summary_df.style.format({'Average Price':\"${:,.2f}\",\n",
    "                         'Total Revenue': '${:,.2f}'})"
   ]
  },
  {
   "cell_type": "code",
   "execution_count": 4,
   "metadata": {},
   "outputs": [
    {
     "data": {
      "text/html": [
       "<style  type=\"text/css\" >\n",
       "</style><table id=\"T_63749648_8668_11ea_8802_f018982d16bd\" ><thead>    <tr>        <th class=\"blank level0\" ></th>        <th class=\"col_heading level0 col0\" >Percentage of Players</th>        <th class=\"col_heading level0 col1\" >Total Count</th>    </tr></thead><tbody>\n",
       "                <tr>\n",
       "                        <th id=\"T_63749648_8668_11ea_8802_f018982d16bdlevel0_row0\" class=\"row_heading level0 row0\" >Other / Non-Disclosed</th>\n",
       "                        <td id=\"T_63749648_8668_11ea_8802_f018982d16bdrow0_col0\" class=\"data row0 col0\" >1.91</td>\n",
       "                        <td id=\"T_63749648_8668_11ea_8802_f018982d16bdrow0_col1\" class=\"data row0 col1\" >11</td>\n",
       "            </tr>\n",
       "            <tr>\n",
       "                        <th id=\"T_63749648_8668_11ea_8802_f018982d16bdlevel0_row1\" class=\"row_heading level0 row1\" >Female</th>\n",
       "                        <td id=\"T_63749648_8668_11ea_8802_f018982d16bdrow1_col0\" class=\"data row1 col0\" >14.06</td>\n",
       "                        <td id=\"T_63749648_8668_11ea_8802_f018982d16bdrow1_col1\" class=\"data row1 col1\" >81</td>\n",
       "            </tr>\n",
       "            <tr>\n",
       "                        <th id=\"T_63749648_8668_11ea_8802_f018982d16bdlevel0_row2\" class=\"row_heading level0 row2\" >Male</th>\n",
       "                        <td id=\"T_63749648_8668_11ea_8802_f018982d16bdrow2_col0\" class=\"data row2 col0\" >84.03</td>\n",
       "                        <td id=\"T_63749648_8668_11ea_8802_f018982d16bdrow2_col1\" class=\"data row2 col1\" >484</td>\n",
       "            </tr>\n",
       "    </tbody></table>"
      ],
      "text/plain": [
       "<pandas.io.formats.style.Styler at 0x10d12fb80>"
      ]
     },
     "execution_count": 4,
     "metadata": {},
     "output_type": "execute_result"
    }
   ],
   "source": [
    "# groupby to categorize by GENDER\n",
    "gender_stats = purchase_data.groupby(\"Gender\")\n",
    "\n",
    "# Count the total of screen names \"SN\" by gender'\n",
    "# number of unique observations over a requested axis\n",
    "total_count_gender = gender_stats.nunique()[\"SN\"]  \n",
    "\n",
    "# gender count / TOTAL\n",
    "percentage_of_players = total_count_gender / total_players * 100\n",
    "\n",
    "# dataframe\n",
    "gender_demographics = pd.DataFrame({\"Percentage of Players\": percentage_of_players, \"Total Count\": total_count_gender})\n",
    "\n",
    "# you can format out the gender header label\n",
    "gender_demographics.index.name = None\n",
    "\n",
    "# Format the values sorted by total count in descending order, and two decimal places for the percentage\n",
    "# (ascending = True) will order by low to high\n",
    "\n",
    "gender_demographics.sort_values([\"Total Count\"], ascending = True).style.format({\"Percentage of Players\":\"{:.2f}\"})"
   ]
  },
  {
   "cell_type": "code",
   "execution_count": 5,
   "metadata": {},
   "outputs": [
    {
     "data": {
      "text/html": [
       "<style  type=\"text/css\" >\n",
       "</style><table id=\"T_63798e5a_8668_11ea_8802_f018982d16bd\" ><thead>    <tr>        <th class=\"blank level0\" ></th>        <th class=\"col_heading level0 col0\" >Purchase Count</th>        <th class=\"col_heading level0 col1\" >Average Purchase Price</th>        <th class=\"col_heading level0 col2\" >Average Purchase Value</th>        <th class=\"col_heading level0 col3\" >Avg Purchase Total per Person</th>    </tr>    <tr>        <th class=\"index_name level0\" >Gender</th>        <th class=\"blank\" ></th>        <th class=\"blank\" ></th>        <th class=\"blank\" ></th>        <th class=\"blank\" ></th>    </tr></thead><tbody>\n",
       "                <tr>\n",
       "                        <th id=\"T_63798e5a_8668_11ea_8802_f018982d16bdlevel0_row0\" class=\"row_heading level0 row0\" >Female</th>\n",
       "                        <td id=\"T_63798e5a_8668_11ea_8802_f018982d16bdrow0_col0\" class=\"data row0 col0\" >113</td>\n",
       "                        <td id=\"T_63798e5a_8668_11ea_8802_f018982d16bdrow0_col1\" class=\"data row0 col1\" >$3.20</td>\n",
       "                        <td id=\"T_63798e5a_8668_11ea_8802_f018982d16bdrow0_col2\" class=\"data row0 col2\" >$361.94</td>\n",
       "                        <td id=\"T_63798e5a_8668_11ea_8802_f018982d16bdrow0_col3\" class=\"data row0 col3\" >$4.47</td>\n",
       "            </tr>\n",
       "            <tr>\n",
       "                        <th id=\"T_63798e5a_8668_11ea_8802_f018982d16bdlevel0_row1\" class=\"row_heading level0 row1\" >Male</th>\n",
       "                        <td id=\"T_63798e5a_8668_11ea_8802_f018982d16bdrow1_col0\" class=\"data row1 col0\" >652</td>\n",
       "                        <td id=\"T_63798e5a_8668_11ea_8802_f018982d16bdrow1_col1\" class=\"data row1 col1\" >$3.02</td>\n",
       "                        <td id=\"T_63798e5a_8668_11ea_8802_f018982d16bdrow1_col2\" class=\"data row1 col2\" >$1,967.64</td>\n",
       "                        <td id=\"T_63798e5a_8668_11ea_8802_f018982d16bdrow1_col3\" class=\"data row1 col3\" >$4.07</td>\n",
       "            </tr>\n",
       "            <tr>\n",
       "                        <th id=\"T_63798e5a_8668_11ea_8802_f018982d16bdlevel0_row2\" class=\"row_heading level0 row2\" >Other / Non-Disclosed</th>\n",
       "                        <td id=\"T_63798e5a_8668_11ea_8802_f018982d16bdrow2_col0\" class=\"data row2 col0\" >15</td>\n",
       "                        <td id=\"T_63798e5a_8668_11ea_8802_f018982d16bdrow2_col1\" class=\"data row2 col1\" >$3.35</td>\n",
       "                        <td id=\"T_63798e5a_8668_11ea_8802_f018982d16bdrow2_col2\" class=\"data row2 col2\" >$50.19</td>\n",
       "                        <td id=\"T_63798e5a_8668_11ea_8802_f018982d16bdrow2_col3\" class=\"data row2 col3\" >$4.56</td>\n",
       "            </tr>\n",
       "    </tbody></table>"
      ],
      "text/plain": [
       "<pandas.io.formats.style.Styler at 0x116c96e80>"
      ]
     },
     "execution_count": 5,
     "metadata": {},
     "output_type": "execute_result"
    }
   ],
   "source": [
    "# Count the total purchases by gender \n",
    "purchase_count = gender_stats[\"Purchase ID\"].count()\n",
    "\n",
    "# Average purchase prices by gender\n",
    "avg_purchase_price = gender_stats[\"Price\"].mean()\n",
    "\n",
    "# Average purchase total by gender \n",
    "avg_purchase_total = gender_stats[\"Price\"].sum()\n",
    "\n",
    "# Average purchase total by gender divivded by purchase count by unique shoppers\n",
    "avg_purchase_per_person = avg_purchase_total/total_count_gender\n",
    "\n",
    "# Create data frame with obtained values \n",
    "gender_demographics = pd.DataFrame({\"Purchase Count\": purchase_count, \n",
    "                                    \"Average Purchase Price\": avg_purchase_price,\n",
    "                                    \"Average Purchase Value\":avg_purchase_total,\n",
    "                                    \"Avg Purchase Total per Person\": avg_purchase_per_person})\n",
    "\n",
    "# Provide index in top left as \"Gender\"\n",
    "gender_demographics.index.name = \"Gender\"\n",
    "\n",
    "# Format with currency style\n",
    "gender_demographics.style.format({\"Average Purchase Value\":\"${:,.2f}\",\n",
    "                                  \"Average Purchase Price\":\"${:,.2f}\",\n",
    "                                  \"Avg Purchase Total per Person\":\"${:,.2f}\"})"
   ]
  },
  {
   "cell_type": "code",
   "execution_count": 6,
   "metadata": {},
   "outputs": [
    {
     "data": {
      "text/html": [
       "<style  type=\"text/css\" >\n",
       "</style><table id=\"T_6397cc62_8668_11ea_8802_f018982d16bd\" ><thead>    <tr>        <th class=\"blank level0\" ></th>        <th class=\"col_heading level0 col0\" >Percentage of Players</th>        <th class=\"col_heading level0 col1\" >Total Count</th>    </tr></thead><tbody>\n",
       "                <tr>\n",
       "                        <th id=\"T_6397cc62_8668_11ea_8802_f018982d16bdlevel0_row0\" class=\"row_heading level0 row0\" ><10</th>\n",
       "                        <td id=\"T_6397cc62_8668_11ea_8802_f018982d16bdrow0_col0\" class=\"data row0 col0\" >2.95</td>\n",
       "                        <td id=\"T_6397cc62_8668_11ea_8802_f018982d16bdrow0_col1\" class=\"data row0 col1\" >17</td>\n",
       "            </tr>\n",
       "            <tr>\n",
       "                        <th id=\"T_6397cc62_8668_11ea_8802_f018982d16bdlevel0_row1\" class=\"row_heading level0 row1\" >10-14</th>\n",
       "                        <td id=\"T_6397cc62_8668_11ea_8802_f018982d16bdrow1_col0\" class=\"data row1 col0\" >3.82</td>\n",
       "                        <td id=\"T_6397cc62_8668_11ea_8802_f018982d16bdrow1_col1\" class=\"data row1 col1\" >22</td>\n",
       "            </tr>\n",
       "            <tr>\n",
       "                        <th id=\"T_6397cc62_8668_11ea_8802_f018982d16bdlevel0_row2\" class=\"row_heading level0 row2\" >15-19</th>\n",
       "                        <td id=\"T_6397cc62_8668_11ea_8802_f018982d16bdrow2_col0\" class=\"data row2 col0\" >18.58</td>\n",
       "                        <td id=\"T_6397cc62_8668_11ea_8802_f018982d16bdrow2_col1\" class=\"data row2 col1\" >107</td>\n",
       "            </tr>\n",
       "            <tr>\n",
       "                        <th id=\"T_6397cc62_8668_11ea_8802_f018982d16bdlevel0_row3\" class=\"row_heading level0 row3\" >20-24</th>\n",
       "                        <td id=\"T_6397cc62_8668_11ea_8802_f018982d16bdrow3_col0\" class=\"data row3 col0\" >44.79</td>\n",
       "                        <td id=\"T_6397cc62_8668_11ea_8802_f018982d16bdrow3_col1\" class=\"data row3 col1\" >258</td>\n",
       "            </tr>\n",
       "            <tr>\n",
       "                        <th id=\"T_6397cc62_8668_11ea_8802_f018982d16bdlevel0_row4\" class=\"row_heading level0 row4\" >25-29</th>\n",
       "                        <td id=\"T_6397cc62_8668_11ea_8802_f018982d16bdrow4_col0\" class=\"data row4 col0\" >13.37</td>\n",
       "                        <td id=\"T_6397cc62_8668_11ea_8802_f018982d16bdrow4_col1\" class=\"data row4 col1\" >77</td>\n",
       "            </tr>\n",
       "            <tr>\n",
       "                        <th id=\"T_6397cc62_8668_11ea_8802_f018982d16bdlevel0_row5\" class=\"row_heading level0 row5\" >30-34</th>\n",
       "                        <td id=\"T_6397cc62_8668_11ea_8802_f018982d16bdrow5_col0\" class=\"data row5 col0\" >9.03</td>\n",
       "                        <td id=\"T_6397cc62_8668_11ea_8802_f018982d16bdrow5_col1\" class=\"data row5 col1\" >52</td>\n",
       "            </tr>\n",
       "            <tr>\n",
       "                        <th id=\"T_6397cc62_8668_11ea_8802_f018982d16bdlevel0_row6\" class=\"row_heading level0 row6\" >35-39</th>\n",
       "                        <td id=\"T_6397cc62_8668_11ea_8802_f018982d16bdrow6_col0\" class=\"data row6 col0\" >5.38</td>\n",
       "                        <td id=\"T_6397cc62_8668_11ea_8802_f018982d16bdrow6_col1\" class=\"data row6 col1\" >31</td>\n",
       "            </tr>\n",
       "            <tr>\n",
       "                        <th id=\"T_6397cc62_8668_11ea_8802_f018982d16bdlevel0_row7\" class=\"row_heading level0 row7\" >40+</th>\n",
       "                        <td id=\"T_6397cc62_8668_11ea_8802_f018982d16bdrow7_col0\" class=\"data row7 col0\" >2.08</td>\n",
       "                        <td id=\"T_6397cc62_8668_11ea_8802_f018982d16bdrow7_col1\" class=\"data row7 col1\" >12</td>\n",
       "            </tr>\n",
       "    </tbody></table>"
      ],
      "text/plain": [
       "<pandas.io.formats.style.Styler at 0x11739e070>"
      ]
     },
     "execution_count": 6,
     "metadata": {},
     "output_type": "execute_result"
    }
   ],
   "source": [
    "#  BINS for Ages\n",
    "age_bins = [0, 9.90, 14.90, 19.90, 24.90, 29.90, 34.90, 39.90, 99999]\n",
    "group_names = [\"<10\", \"10-14\", \"15-19\", \"20-24\", \"25-29\", \"30-34\", \"35-39\", \"40+\"]\n",
    "\n",
    "# Segment and sort age values into bins established above\n",
    "purchase_data[\"Age Group\"] = pd.cut(purchase_data[\"Age\"],age_bins, labels=group_names)\n",
    "purchase_data\n",
    "\n",
    "# Create new data frame with the added \"Age Group\" and group it\n",
    "age_grouped = purchase_data.groupby(\"Age Group\")\n",
    "\n",
    "# Count total players by age category\n",
    "total_count_age = age_grouped[\"SN\"].nunique()\n",
    "\n",
    "# Calculate percentages by age category \n",
    "percentage_by_age = (total_count_age/total_players) * 100\n",
    "\n",
    "# Create data frame with obtained values\n",
    "age_demographics = pd.DataFrame({\"Percentage of Players\": percentage_by_age, \"Total Count\": total_count_age})\n",
    "\n",
    "# Format the data frame with no index name in the corner\n",
    "age_demographics.index.name = None\n",
    "\n",
    "# Format percentage with two decimal places \n",
    "age_demographics.style.format({\"Percentage of Players\":\"{:,.2f}\"})"
   ]
  },
  {
   "cell_type": "code",
   "execution_count": 7,
   "metadata": {},
   "outputs": [
    {
     "data": {
      "text/html": [
       "<style  type=\"text/css\" >\n",
       "</style><table id=\"T_63c288ee_8668_11ea_8802_f018982d16bd\" ><thead>    <tr>        <th class=\"blank level0\" ></th>        <th class=\"col_heading level0 col0\" >Purchase Count</th>        <th class=\"col_heading level0 col1\" >Average Purchase Price</th>        <th class=\"col_heading level0 col2\" >Total Purchase Value</th>        <th class=\"col_heading level0 col3\" >Average Purchase Total per Person</th>    </tr></thead><tbody>\n",
       "                <tr>\n",
       "                        <th id=\"T_63c288ee_8668_11ea_8802_f018982d16bdlevel0_row0\" class=\"row_heading level0 row0\" ><10</th>\n",
       "                        <td id=\"T_63c288ee_8668_11ea_8802_f018982d16bdrow0_col0\" class=\"data row0 col0\" >23</td>\n",
       "                        <td id=\"T_63c288ee_8668_11ea_8802_f018982d16bdrow0_col1\" class=\"data row0 col1\" >$3.35</td>\n",
       "                        <td id=\"T_63c288ee_8668_11ea_8802_f018982d16bdrow0_col2\" class=\"data row0 col2\" >$77.13</td>\n",
       "                        <td id=\"T_63c288ee_8668_11ea_8802_f018982d16bdrow0_col3\" class=\"data row0 col3\" >$4.54</td>\n",
       "            </tr>\n",
       "            <tr>\n",
       "                        <th id=\"T_63c288ee_8668_11ea_8802_f018982d16bdlevel0_row1\" class=\"row_heading level0 row1\" >10-14</th>\n",
       "                        <td id=\"T_63c288ee_8668_11ea_8802_f018982d16bdrow1_col0\" class=\"data row1 col0\" >28</td>\n",
       "                        <td id=\"T_63c288ee_8668_11ea_8802_f018982d16bdrow1_col1\" class=\"data row1 col1\" >$2.96</td>\n",
       "                        <td id=\"T_63c288ee_8668_11ea_8802_f018982d16bdrow1_col2\" class=\"data row1 col2\" >$82.78</td>\n",
       "                        <td id=\"T_63c288ee_8668_11ea_8802_f018982d16bdrow1_col3\" class=\"data row1 col3\" >$3.76</td>\n",
       "            </tr>\n",
       "            <tr>\n",
       "                        <th id=\"T_63c288ee_8668_11ea_8802_f018982d16bdlevel0_row2\" class=\"row_heading level0 row2\" >15-19</th>\n",
       "                        <td id=\"T_63c288ee_8668_11ea_8802_f018982d16bdrow2_col0\" class=\"data row2 col0\" >136</td>\n",
       "                        <td id=\"T_63c288ee_8668_11ea_8802_f018982d16bdrow2_col1\" class=\"data row2 col1\" >$3.04</td>\n",
       "                        <td id=\"T_63c288ee_8668_11ea_8802_f018982d16bdrow2_col2\" class=\"data row2 col2\" >$412.89</td>\n",
       "                        <td id=\"T_63c288ee_8668_11ea_8802_f018982d16bdrow2_col3\" class=\"data row2 col3\" >$3.86</td>\n",
       "            </tr>\n",
       "            <tr>\n",
       "                        <th id=\"T_63c288ee_8668_11ea_8802_f018982d16bdlevel0_row3\" class=\"row_heading level0 row3\" >20-24</th>\n",
       "                        <td id=\"T_63c288ee_8668_11ea_8802_f018982d16bdrow3_col0\" class=\"data row3 col0\" >365</td>\n",
       "                        <td id=\"T_63c288ee_8668_11ea_8802_f018982d16bdrow3_col1\" class=\"data row3 col1\" >$3.05</td>\n",
       "                        <td id=\"T_63c288ee_8668_11ea_8802_f018982d16bdrow3_col2\" class=\"data row3 col2\" >$1,114.06</td>\n",
       "                        <td id=\"T_63c288ee_8668_11ea_8802_f018982d16bdrow3_col3\" class=\"data row3 col3\" >$4.32</td>\n",
       "            </tr>\n",
       "            <tr>\n",
       "                        <th id=\"T_63c288ee_8668_11ea_8802_f018982d16bdlevel0_row4\" class=\"row_heading level0 row4\" >25-29</th>\n",
       "                        <td id=\"T_63c288ee_8668_11ea_8802_f018982d16bdrow4_col0\" class=\"data row4 col0\" >101</td>\n",
       "                        <td id=\"T_63c288ee_8668_11ea_8802_f018982d16bdrow4_col1\" class=\"data row4 col1\" >$2.90</td>\n",
       "                        <td id=\"T_63c288ee_8668_11ea_8802_f018982d16bdrow4_col2\" class=\"data row4 col2\" >$293.00</td>\n",
       "                        <td id=\"T_63c288ee_8668_11ea_8802_f018982d16bdrow4_col3\" class=\"data row4 col3\" >$3.81</td>\n",
       "            </tr>\n",
       "            <tr>\n",
       "                        <th id=\"T_63c288ee_8668_11ea_8802_f018982d16bdlevel0_row5\" class=\"row_heading level0 row5\" >30-34</th>\n",
       "                        <td id=\"T_63c288ee_8668_11ea_8802_f018982d16bdrow5_col0\" class=\"data row5 col0\" >73</td>\n",
       "                        <td id=\"T_63c288ee_8668_11ea_8802_f018982d16bdrow5_col1\" class=\"data row5 col1\" >$2.93</td>\n",
       "                        <td id=\"T_63c288ee_8668_11ea_8802_f018982d16bdrow5_col2\" class=\"data row5 col2\" >$214.00</td>\n",
       "                        <td id=\"T_63c288ee_8668_11ea_8802_f018982d16bdrow5_col3\" class=\"data row5 col3\" >$4.12</td>\n",
       "            </tr>\n",
       "            <tr>\n",
       "                        <th id=\"T_63c288ee_8668_11ea_8802_f018982d16bdlevel0_row6\" class=\"row_heading level0 row6\" >35-39</th>\n",
       "                        <td id=\"T_63c288ee_8668_11ea_8802_f018982d16bdrow6_col0\" class=\"data row6 col0\" >41</td>\n",
       "                        <td id=\"T_63c288ee_8668_11ea_8802_f018982d16bdrow6_col1\" class=\"data row6 col1\" >$3.60</td>\n",
       "                        <td id=\"T_63c288ee_8668_11ea_8802_f018982d16bdrow6_col2\" class=\"data row6 col2\" >$147.67</td>\n",
       "                        <td id=\"T_63c288ee_8668_11ea_8802_f018982d16bdrow6_col3\" class=\"data row6 col3\" >$4.76</td>\n",
       "            </tr>\n",
       "            <tr>\n",
       "                        <th id=\"T_63c288ee_8668_11ea_8802_f018982d16bdlevel0_row7\" class=\"row_heading level0 row7\" >40+</th>\n",
       "                        <td id=\"T_63c288ee_8668_11ea_8802_f018982d16bdrow7_col0\" class=\"data row7 col0\" >13</td>\n",
       "                        <td id=\"T_63c288ee_8668_11ea_8802_f018982d16bdrow7_col1\" class=\"data row7 col1\" >$2.94</td>\n",
       "                        <td id=\"T_63c288ee_8668_11ea_8802_f018982d16bdrow7_col2\" class=\"data row7 col2\" >$38.24</td>\n",
       "                        <td id=\"T_63c288ee_8668_11ea_8802_f018982d16bdrow7_col3\" class=\"data row7 col3\" >$3.19</td>\n",
       "            </tr>\n",
       "    </tbody></table>"
      ],
      "text/plain": [
       "<pandas.io.formats.style.Styler at 0x116c963a0>"
      ]
     },
     "execution_count": 7,
     "metadata": {},
     "output_type": "execute_result"
    }
   ],
   "source": [
    "# Count purchases by age group\n",
    "purchase_count_age = age_grouped[\"Purchase ID\"].count()\n",
    "\n",
    "# Obtain average purchase price by age group \n",
    "avg_purchase_price_age = age_grouped[\"Price\"].mean()\n",
    "\n",
    "# Calculate total purchase value by age group \n",
    "total_purchase_value = age_grouped[\"Price\"].sum()\n",
    "\n",
    "# Calculate the average purchase per person in the age group \n",
    "avg_purchase_per_person_age = total_purchase_value/total_count_age\n",
    "\n",
    "# Create data frame with obtained values\n",
    "age_demographics = pd.DataFrame({\"Purchase Count\": purchase_count_age,\n",
    "                                 \"Average Purchase Price\": avg_purchase_price_age,\n",
    "                                 \"Total Purchase Value\":total_purchase_value,\n",
    "                                 \"Average Purchase Total per Person\": avg_purchase_per_person_age})\n",
    "\n",
    "# Format the data frame with no index name in the corner\n",
    "age_demographics.index.name = None\n",
    "\n",
    "# Format with currency style\n",
    "age_demographics.style.format({\"Average Purchase Price\":\"${:,.2f}\",\n",
    "                               \"Total Purchase Value\":\"${:,.2f}\",\n",
    "                               \"Average Purchase Total per Person\":\"${:,.2f}\"})"
   ]
  },
  {
   "cell_type": "code",
   "execution_count": 8,
   "metadata": {},
   "outputs": [
    {
     "data": {
      "text/html": [
       "<style  type=\"text/css\" >\n",
       "</style><table id=\"T_645e0cec_8668_11ea_8802_f018982d16bd\" ><thead>    <tr>        <th class=\"blank level0\" ></th>        <th class=\"col_heading level0 col0\" >Purchase Count</th>        <th class=\"col_heading level0 col1\" >Average Purchase Price</th>        <th class=\"col_heading level0 col2\" >Total Purchase Value</th>    </tr>    <tr>        <th class=\"index_name level0\" >SN</th>        <th class=\"blank\" ></th>        <th class=\"blank\" ></th>        <th class=\"blank\" ></th>    </tr></thead><tbody>\n",
       "                <tr>\n",
       "                        <th id=\"T_645e0cec_8668_11ea_8802_f018982d16bdlevel0_row0\" class=\"row_heading level0 row0\" >Lisosia93</th>\n",
       "                        <td id=\"T_645e0cec_8668_11ea_8802_f018982d16bdrow0_col0\" class=\"data row0 col0\" >5</td>\n",
       "                        <td id=\"T_645e0cec_8668_11ea_8802_f018982d16bdrow0_col1\" class=\"data row0 col1\" >$3.79</td>\n",
       "                        <td id=\"T_645e0cec_8668_11ea_8802_f018982d16bdrow0_col2\" class=\"data row0 col2\" >$18.96</td>\n",
       "            </tr>\n",
       "            <tr>\n",
       "                        <th id=\"T_645e0cec_8668_11ea_8802_f018982d16bdlevel0_row1\" class=\"row_heading level0 row1\" >Idastidru52</th>\n",
       "                        <td id=\"T_645e0cec_8668_11ea_8802_f018982d16bdrow1_col0\" class=\"data row1 col0\" >4</td>\n",
       "                        <td id=\"T_645e0cec_8668_11ea_8802_f018982d16bdrow1_col1\" class=\"data row1 col1\" >$3.86</td>\n",
       "                        <td id=\"T_645e0cec_8668_11ea_8802_f018982d16bdrow1_col2\" class=\"data row1 col2\" >$15.45</td>\n",
       "            </tr>\n",
       "            <tr>\n",
       "                        <th id=\"T_645e0cec_8668_11ea_8802_f018982d16bdlevel0_row2\" class=\"row_heading level0 row2\" >Chamjask73</th>\n",
       "                        <td id=\"T_645e0cec_8668_11ea_8802_f018982d16bdrow2_col0\" class=\"data row2 col0\" >3</td>\n",
       "                        <td id=\"T_645e0cec_8668_11ea_8802_f018982d16bdrow2_col1\" class=\"data row2 col1\" >$4.61</td>\n",
       "                        <td id=\"T_645e0cec_8668_11ea_8802_f018982d16bdrow2_col2\" class=\"data row2 col2\" >$13.83</td>\n",
       "            </tr>\n",
       "            <tr>\n",
       "                        <th id=\"T_645e0cec_8668_11ea_8802_f018982d16bdlevel0_row3\" class=\"row_heading level0 row3\" >Iral74</th>\n",
       "                        <td id=\"T_645e0cec_8668_11ea_8802_f018982d16bdrow3_col0\" class=\"data row3 col0\" >4</td>\n",
       "                        <td id=\"T_645e0cec_8668_11ea_8802_f018982d16bdrow3_col1\" class=\"data row3 col1\" >$3.40</td>\n",
       "                        <td id=\"T_645e0cec_8668_11ea_8802_f018982d16bdrow3_col2\" class=\"data row3 col2\" >$13.62</td>\n",
       "            </tr>\n",
       "            <tr>\n",
       "                        <th id=\"T_645e0cec_8668_11ea_8802_f018982d16bdlevel0_row4\" class=\"row_heading level0 row4\" >Iskadarya95</th>\n",
       "                        <td id=\"T_645e0cec_8668_11ea_8802_f018982d16bdrow4_col0\" class=\"data row4 col0\" >3</td>\n",
       "                        <td id=\"T_645e0cec_8668_11ea_8802_f018982d16bdrow4_col1\" class=\"data row4 col1\" >$4.37</td>\n",
       "                        <td id=\"T_645e0cec_8668_11ea_8802_f018982d16bdrow4_col2\" class=\"data row4 col2\" >$13.10</td>\n",
       "            </tr>\n",
       "    </tbody></table>"
      ],
      "text/plain": [
       "<pandas.io.formats.style.Styler at 0x11739eca0>"
      ]
     },
     "execution_count": 8,
     "metadata": {},
     "output_type": "execute_result"
    }
   ],
   "source": [
    "# Group purchase data by screen names\n",
    "spender_stats = purchase_data.groupby(\"SN\")\n",
    "\n",
    "# Count the total purchases by name\n",
    "purchase_count_spender = spender_stats[\"Purchase ID\"].count()\n",
    "\n",
    "# Calculate the average purchase by name \n",
    "avg_purchase_price_spender = spender_stats[\"Price\"].mean()\n",
    "\n",
    "# Calculate purchase total \n",
    "purchase_total_spender = spender_stats[\"Price\"].sum()\n",
    "\n",
    "# Create data frame with obtained values\n",
    "top_spenders = pd.DataFrame({\"Purchase Count\": purchase_count_spender,\n",
    "                             \"Average Purchase Price\": avg_purchase_price_spender,\n",
    "                             \"Total Purchase Value\":purchase_total_spender})\n",
    "\n",
    "# Sort in descending order to obtain top 5 spender names \n",
    "formatted_spenders = top_spenders.sort_values([\"Total Purchase Value\"], ascending=False).head()\n",
    "\n",
    "# Format with currency style\n",
    "formatted_spenders.style.format({\"Average Purchase Total\":\"${:,.2f}\",\n",
    "                                 \"Average Purchase Price\":\"${:,.2f}\", \n",
    "                                 \"Total Purchase Value\":\"${:,.2f}\"})"
   ]
  },
  {
   "cell_type": "code",
   "execution_count": 9,
   "metadata": {},
   "outputs": [
    {
     "data": {
      "text/html": [
       "<style  type=\"text/css\" >\n",
       "</style><table id=\"T_648438d6_8668_11ea_8802_f018982d16bd\" ><thead>    <tr>        <th class=\"blank\" ></th>        <th class=\"blank level0\" ></th>        <th class=\"col_heading level0 col0\" >Purchase Count</th>        <th class=\"col_heading level0 col1\" >Item Price</th>        <th class=\"col_heading level0 col2\" >Total Purchase Value</th>    </tr>    <tr>        <th class=\"index_name level0\" >Item ID</th>        <th class=\"index_name level1\" >Item Name</th>        <th class=\"blank\" ></th>        <th class=\"blank\" ></th>        <th class=\"blank\" ></th>    </tr></thead><tbody>\n",
       "                <tr>\n",
       "                        <th id=\"T_648438d6_8668_11ea_8802_f018982d16bdlevel0_row0\" class=\"row_heading level0 row0\" >178</th>\n",
       "                        <th id=\"T_648438d6_8668_11ea_8802_f018982d16bdlevel1_row0\" class=\"row_heading level1 row0\" >Oathbreaker, Last Hope of the Breaking Storm</th>\n",
       "                        <td id=\"T_648438d6_8668_11ea_8802_f018982d16bdrow0_col0\" class=\"data row0 col0\" >12</td>\n",
       "                        <td id=\"T_648438d6_8668_11ea_8802_f018982d16bdrow0_col1\" class=\"data row0 col1\" >$4.23</td>\n",
       "                        <td id=\"T_648438d6_8668_11ea_8802_f018982d16bdrow0_col2\" class=\"data row0 col2\" >$50.76</td>\n",
       "            </tr>\n",
       "            <tr>\n",
       "                        <th id=\"T_648438d6_8668_11ea_8802_f018982d16bdlevel0_row1\" class=\"row_heading level0 row1\" >145</th>\n",
       "                        <th id=\"T_648438d6_8668_11ea_8802_f018982d16bdlevel1_row1\" class=\"row_heading level1 row1\" >Fiery Glass Crusader</th>\n",
       "                        <td id=\"T_648438d6_8668_11ea_8802_f018982d16bdrow1_col0\" class=\"data row1 col0\" >9</td>\n",
       "                        <td id=\"T_648438d6_8668_11ea_8802_f018982d16bdrow1_col1\" class=\"data row1 col1\" >$4.58</td>\n",
       "                        <td id=\"T_648438d6_8668_11ea_8802_f018982d16bdrow1_col2\" class=\"data row1 col2\" >$41.22</td>\n",
       "            </tr>\n",
       "            <tr>\n",
       "                        <th id=\"T_648438d6_8668_11ea_8802_f018982d16bdlevel0_row2\" class=\"row_heading level0 row2\" >108</th>\n",
       "                        <th id=\"T_648438d6_8668_11ea_8802_f018982d16bdlevel1_row2\" class=\"row_heading level1 row2\" >Extraction, Quickblade Of Trembling Hands</th>\n",
       "                        <td id=\"T_648438d6_8668_11ea_8802_f018982d16bdrow2_col0\" class=\"data row2 col0\" >9</td>\n",
       "                        <td id=\"T_648438d6_8668_11ea_8802_f018982d16bdrow2_col1\" class=\"data row2 col1\" >$3.53</td>\n",
       "                        <td id=\"T_648438d6_8668_11ea_8802_f018982d16bdrow2_col2\" class=\"data row2 col2\" >$31.77</td>\n",
       "            </tr>\n",
       "            <tr>\n",
       "                        <th id=\"T_648438d6_8668_11ea_8802_f018982d16bdlevel0_row3\" class=\"row_heading level0 row3\" >82</th>\n",
       "                        <th id=\"T_648438d6_8668_11ea_8802_f018982d16bdlevel1_row3\" class=\"row_heading level1 row3\" >Nirvana</th>\n",
       "                        <td id=\"T_648438d6_8668_11ea_8802_f018982d16bdrow3_col0\" class=\"data row3 col0\" >9</td>\n",
       "                        <td id=\"T_648438d6_8668_11ea_8802_f018982d16bdrow3_col1\" class=\"data row3 col1\" >$4.90</td>\n",
       "                        <td id=\"T_648438d6_8668_11ea_8802_f018982d16bdrow3_col2\" class=\"data row3 col2\" >$44.10</td>\n",
       "            </tr>\n",
       "            <tr>\n",
       "                        <th id=\"T_648438d6_8668_11ea_8802_f018982d16bdlevel0_row4\" class=\"row_heading level0 row4\" >19</th>\n",
       "                        <th id=\"T_648438d6_8668_11ea_8802_f018982d16bdlevel1_row4\" class=\"row_heading level1 row4\" >Pursuit, Cudgel of Necromancy</th>\n",
       "                        <td id=\"T_648438d6_8668_11ea_8802_f018982d16bdrow4_col0\" class=\"data row4 col0\" >8</td>\n",
       "                        <td id=\"T_648438d6_8668_11ea_8802_f018982d16bdrow4_col1\" class=\"data row4 col1\" >$1.02</td>\n",
       "                        <td id=\"T_648438d6_8668_11ea_8802_f018982d16bdrow4_col2\" class=\"data row4 col2\" >$8.16</td>\n",
       "            </tr>\n",
       "    </tbody></table>"
      ],
      "text/plain": [
       "<pandas.io.formats.style.Styler at 0x117456f70>"
      ]
     },
     "execution_count": 9,
     "metadata": {},
     "output_type": "execute_result"
    }
   ],
   "source": [
    "\n",
    "# Create new data frame with items related information \n",
    "items = purchase_data[[\"Item ID\", \"Item Name\", \"Price\"]]\n",
    "\n",
    "# Group the item data by item id and item name \n",
    "item_stats = items.groupby([\"Item ID\",\"Item Name\"])\n",
    "\n",
    "# Count the number of times an item has been purchased \n",
    "purchase_count_item = item_stats[\"Price\"].count()\n",
    "\n",
    "# Calcualte the purchase value per item \n",
    "purchase_value = (item_stats[\"Price\"].sum()) \n",
    "\n",
    "# Find individual item price\n",
    "item_price = purchase_value/purchase_count_item\n",
    "\n",
    "# Create data frame with obtained values\n",
    "most_popular_items = pd.DataFrame({\"Purchase Count\": purchase_count_item, \n",
    "                                   \"Item Price\": item_price,\n",
    "                                   \"Total Purchase Value\":purchase_value})\n",
    "\n",
    "# Sort in descending order to obtain top spender names and provide top 5 item names\n",
    "popular_formatted = most_popular_items.sort_values([\"Purchase Count\"], ascending=False).head()\n",
    "\n",
    "# Format with currency style\n",
    "popular_formatted.style.format({\"Item Price\":\"${:,.2f}\",\n",
    "                                \"Total Purchase Value\":\"${:,.2f}\"})"
   ]
  },
  {
   "cell_type": "code",
   "execution_count": null,
   "metadata": {},
   "outputs": [],
   "source": []
  },
  {
   "cell_type": "code",
   "execution_count": null,
   "metadata": {},
   "outputs": [],
   "source": []
  },
  {
   "cell_type": "code",
   "execution_count": null,
   "metadata": {},
   "outputs": [],
   "source": []
  },
  {
   "cell_type": "code",
   "execution_count": null,
   "metadata": {},
   "outputs": [],
   "source": []
  }
 ],
 "metadata": {
  "kernelspec": {
   "display_name": "Python 3",
   "language": "python",
   "name": "python3"
  },
  "language_info": {
   "codemirror_mode": {
    "name": "ipython",
    "version": 3
   },
   "file_extension": ".py",
   "mimetype": "text/x-python",
   "name": "python",
   "nbconvert_exporter": "python",
   "pygments_lexer": "ipython3",
   "version": "3.8.0"
  }
 },
 "nbformat": 4,
 "nbformat_minor": 4
}
